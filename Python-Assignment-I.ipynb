{
 "cells": [
  {
   "cell_type": "markdown",
   "id": "b24dca81",
   "metadata": {},
   "source": [
    "Q1. Create one variable containing following type of data:\n",
    "(i) string\n",
    "(ii) list\n",
    "(iii) float\n",
    "(iv) tuple"
   ]
  },
  {
   "cell_type": "code",
   "execution_count": 1,
   "id": "0c2d6bde",
   "metadata": {},
   "outputs": [],
   "source": [
    "name=\"prachi\" #string\n",
    "demo=[1,11,\"ps\",6.4,3.14,2+6j] #list\n",
    "pi=3.14 #float\n",
    "student=(12,\"ps\") #tuple"
   ]
  },
  {
   "cell_type": "code",
   "execution_count": 3,
   "id": "b97ec781",
   "metadata": {},
   "outputs": [
    {
     "name": "stdout",
     "output_type": "stream",
     "text": [
      "String variable : prachi datatype : <class 'str'>\n",
      "List variable : [1, 11, 'ps', 6.4, 3.14, (2+6j)] datatype : <class 'list'>\n",
      "Float variable : 3.14 datatype : <class 'float'>\n",
      "Tuple variable : (12, 'ps') datatype : <class 'tuple'>\n"
     ]
    }
   ],
   "source": [
    "print(\"String variable : {} datatype : {}\".format(name,type(name)))\n",
    "print(f\"List variable : {demo} datatype : {type(demo)}\")\n",
    "print(\"Float variable : {f1} datatype : {d1}\".format(f1=pi,d1=type(pi)))\n",
    "print(\"Tuple variable : {} datatype : {}\".format(student,type(student)))"
   ]
  },
  {
   "cell_type": "markdown",
   "id": "a93427ea",
   "metadata": {},
   "source": [
    "Q2. Given are some following variables containing data:\n",
    "(i) var1 = ‘ ‘\n",
    "(ii) var2 = ‘[ DS , ML , Python]’\n",
    "(iii) var3 = [ ‘DS’ , ’ML’ , ‘Python’ ]\n",
    "(iv) var4 = 1.\n",
    "What will be the data type of the above given variable.\n",
    "\n",
    "A2.\n",
    "(i) var1 = ‘ ‘ --> String\n",
    "(ii) var2 = ‘[ DS , ML , Python]’ --> String\n",
    "(iii) var3 = [ ‘DS’ , ’ML’ , ‘Python’ ] --> List\n",
    "(iv) var4 = 1. --> Float\n"
   ]
  },
  {
   "cell_type": "code",
   "execution_count": 6,
   "id": "995a3e19",
   "metadata": {},
   "outputs": [
    {
     "name": "stdout",
     "output_type": "stream",
     "text": [
      "<class 'str'>\n",
      "<class 'str'>\n",
      "<class 'list'>\n",
      "<class 'float'>\n"
     ]
    }
   ],
   "source": [
    "print(type(''))\n",
    "print(type('[ DS , ML , Python]'))\n",
    "print(type([ 'DS' , 'ML' , 'Python']))\n",
    "print(type(1.))"
   ]
  },
  {
   "cell_type": "markdown",
   "id": "acd9f5eb",
   "metadata": {},
   "source": [
    "Q3. Explain the use of the following operators using an example:\n",
    "\n",
    "(i) /\n",
    "\n",
    "(ii) %\n",
    "\n",
    "(iii) //\n",
    "\n",
    "(iv) **\n",
    "\n",
    "A3.\n",
    "(i) / -> Division operator ; e.g. 11/5=2.2\n",
    "\n",
    "(ii) % -> remainder operator ; returns the remainder after dividing 2 numbers ; e.g. 11%5 = 1\n",
    "\n",
    "(iii) // --> Integer division ; returns floor value after the division of 2 numbers ; e.g. 11//5 = 2\n",
    "\n",
    "(iv) ** --> exponent operator ; x**y returns x to the power of y ; e.g. 2**3(means 2*2*2) = 8"
   ]
  },
  {
   "cell_type": "code",
   "execution_count": 9,
   "id": "726504e5",
   "metadata": {},
   "outputs": [
    {
     "name": "stdout",
     "output_type": "stream",
     "text": [
      " Use of / :  2.2\n",
      " Use of % :  1\n",
      " Use of // :  2\n",
      " Use of ** :  8\n"
     ]
    }
   ],
   "source": [
    "print(\" Use of / : \",11/5)\n",
    "print(\" Use of % : \",11%5)\n",
    "print(\" Use of // : \",11//5)\n",
    "print(\" Use of ** : \",2**3)"
   ]
  },
  {
   "cell_type": "markdown",
   "id": "e4dac872",
   "metadata": {},
   "source": [
    "Q4. Create a list of length 10 of your choice containing multiple types of data. Using for loop print the\n",
    "element and its data type."
   ]
  },
  {
   "cell_type": "code",
   "execution_count": 11,
   "id": "70d80a8e",
   "metadata": {},
   "outputs": [
    {
     "name": "stdout",
     "output_type": "stream",
     "text": [
      "Tne number of elements in my list :  10\n"
     ]
    }
   ],
   "source": [
    "sample=[2,25,6.833,\"Prachi\",'Data Science',['ios','android'],(50,'US'),4+5j,'Hello',{2:'ps'}]\n",
    "print(\"Tne number of elements in my list : \",len(sample))"
   ]
  },
  {
   "cell_type": "code",
   "execution_count": 12,
   "id": "dbdce63a",
   "metadata": {},
   "outputs": [
    {
     "name": "stdout",
     "output_type": "stream",
     "text": [
      "Element : 2, DataType : <class 'int'>\n",
      "Element : 25, DataType : <class 'int'>\n",
      "Element : 6.833, DataType : <class 'float'>\n",
      "Element : Prachi, DataType : <class 'str'>\n",
      "Element : Data Science, DataType : <class 'str'>\n",
      "Element : ['ios', 'android'], DataType : <class 'list'>\n",
      "Element : (50, 'US'), DataType : <class 'tuple'>\n",
      "Element : (4+5j), DataType : <class 'complex'>\n",
      "Element : Hello, DataType : <class 'str'>\n",
      "Element : {2: 'ps'}, DataType : <class 'dict'>\n"
     ]
    }
   ],
   "source": [
    "# Using loop to display the elements of list alongwith there datatype\n",
    "for i in sample :\n",
    "    print(f\"Element : {i}, DataType : {type(i)}\")"
   ]
  },
  {
   "cell_type": "markdown",
   "id": "eb01b051",
   "metadata": {},
   "source": [
    "Q5. Using a while loop, verify if the number A is purely divisible by number B and if so then how many\n",
    "times it can be divisible."
   ]
  },
  {
   "cell_type": "code",
   "execution_count": 16,
   "id": "0506a81c",
   "metadata": {},
   "outputs": [
    {
     "name": "stdout",
     "output_type": "stream",
     "text": [
      "The number 10 is purely divisible by 5\n",
      "The number 21 is not purely divisible by 5 and the remainder is 1\n",
      "The number 30 is purely divisible by 5\n",
      "The number 44 is not purely divisible by 5 and the remainder is 4\n",
      "The number 50 is purely divisible by 5\n"
     ]
    }
   ],
   "source": [
    "A=[10,21,30,44,50]\n",
    "B=5\n",
    "\n",
    "for i in A:\n",
    "    if(i%B==0):\n",
    "        print(f\"The number {i} is purely divisible by {B}\")\n",
    "    else :\n",
    "        print(f\"The number {i} is not purely divisible by {B} and the remainder is {i%B}\")"
   ]
  },
  {
   "cell_type": "markdown",
   "id": "7b921f4d",
   "metadata": {},
   "source": [
    "Q6. Create a list containing 25 int type data. Using for loop and if-else condition print if the element is\n",
    "divisible by 3 or not."
   ]
  },
  {
   "cell_type": "code",
   "execution_count": 24,
   "id": "36facc84",
   "metadata": {},
   "outputs": [
    {
     "name": "stdout",
     "output_type": "stream",
     "text": [
      "List is : [96591, 63857, 71911, 40914, 94154, 37241, 88269, 37280, 48927, 36584, 53378, 21971, 84355, 94295, 4494, 35, 10199, 46880, 41701, 72536, 12481, 12033, 79348, 41347, 34579] \n",
      "length of list is 25 \n"
     ]
    }
   ],
   "source": [
    "#generating list randomly \n",
    "import random \n",
    "sample_list=[]\n",
    "for i in range(0,25):\n",
    "    sample_list.append(random.randint(1,99999))\n",
    "    \n",
    "print(f\"List is : {sample_list} \\nlength of list is {len(sample_list)} \")"
   ]
  },
  {
   "cell_type": "code",
   "execution_count": 25,
   "id": "a92204c7",
   "metadata": {},
   "outputs": [
    {
     "name": "stdout",
     "output_type": "stream",
     "text": [
      "The number 96591 is divisible by 3\n",
      "The number 63857 is not divisible by 3 and the remainder value is 2\n",
      "The number 71911 is not divisible by 3 and the remainder value is 1\n",
      "The number 40914 is divisible by 3\n",
      "The number 94154 is not divisible by 3 and the remainder value is 2\n",
      "The number 37241 is not divisible by 3 and the remainder value is 2\n",
      "The number 88269 is divisible by 3\n",
      "The number 37280 is not divisible by 3 and the remainder value is 2\n",
      "The number 48927 is divisible by 3\n",
      "The number 36584 is not divisible by 3 and the remainder value is 2\n",
      "The number 53378 is not divisible by 3 and the remainder value is 2\n",
      "The number 21971 is not divisible by 3 and the remainder value is 2\n",
      "The number 84355 is not divisible by 3 and the remainder value is 1\n",
      "The number 94295 is not divisible by 3 and the remainder value is 2\n",
      "The number 4494 is divisible by 3\n",
      "The number 35 is not divisible by 3 and the remainder value is 2\n",
      "The number 10199 is not divisible by 3 and the remainder value is 2\n",
      "The number 46880 is not divisible by 3 and the remainder value is 2\n",
      "The number 41701 is not divisible by 3 and the remainder value is 1\n",
      "The number 72536 is not divisible by 3 and the remainder value is 2\n",
      "The number 12481 is not divisible by 3 and the remainder value is 1\n",
      "The number 12033 is divisible by 3\n",
      "The number 79348 is not divisible by 3 and the remainder value is 1\n",
      "The number 41347 is not divisible by 3 and the remainder value is 1\n",
      "The number 34579 is not divisible by 3 and the remainder value is 1\n"
     ]
    }
   ],
   "source": [
    "for i in sample_list :\n",
    "    if (i%3==0):\n",
    "        print(f\"The number {i} is divisible by 3\")\n",
    "    else :\n",
    "        print(f\"The number {i} is not divisible by 3 and the remainder value is {i%3}\")"
   ]
  },
  {
   "cell_type": "markdown",
   "id": "f72cdeb5",
   "metadata": {},
   "source": [
    "Q7. What do you understand about mutable and immutable data types? Give examples for both showing\n",
    "this property.\n",
    "\n",
    "A7. \n",
    "Mutable data type :-  Data type whose value can be changed without updating it's identity. for e.g. : List\n",
    "\n",
    "ImMutable data type :-  Data type whose value cannot be changed without updating it's identity. for e.g. : string,tuple,int,float"
   ]
  },
  {
   "cell_type": "code",
   "execution_count": 28,
   "id": "f7b738a9",
   "metadata": {},
   "outputs": [
    {
     "name": "stdout",
     "output_type": "stream",
     "text": [
      "[4, 6, 8, 10] 4524849856\n"
     ]
    }
   ],
   "source": [
    "# Mutable data type e.g. List\n",
    "\n",
    "l=[4,6,8,10]\n",
    "print(l,id(l))"
   ]
  },
  {
   "cell_type": "code",
   "execution_count": 29,
   "id": "fc649b0d",
   "metadata": {},
   "outputs": [
    {
     "name": "stdout",
     "output_type": "stream",
     "text": [
      "[4, 36, 8, 10] 4524849856\n"
     ]
    }
   ],
   "source": [
    "# updated 2nd element of list 'l'\n",
    "l[1]=36\n",
    "print(l,id(l))"
   ]
  },
  {
   "cell_type": "code",
   "execution_count": 30,
   "id": "c3f944f7",
   "metadata": {},
   "outputs": [
    {
     "name": "stdout",
     "output_type": "stream",
     "text": [
      "10.11 4523965712\n"
     ]
    }
   ],
   "source": [
    "a=10.11\n",
    "print(a,id(a))"
   ]
  },
  {
   "cell_type": "code",
   "execution_count": 31,
   "id": "37e17f0f",
   "metadata": {},
   "outputs": [
    {
     "name": "stdout",
     "output_type": "stream",
     "text": [
      "12 4451854992\n"
     ]
    }
   ],
   "source": [
    "# when value of int variable 'a' is updated new object is created\n",
    "a=12\n",
    "print(a,id(a))"
   ]
  },
  {
   "cell_type": "code",
   "execution_count": 32,
   "id": "43751110",
   "metadata": {},
   "outputs": [
    {
     "name": "stdout",
     "output_type": "stream",
     "text": [
      "prachi sharma 4515112496\n"
     ]
    }
   ],
   "source": [
    "s='prachi sharma'\n",
    "print(s,id(s))"
   ]
  },
  {
   "cell_type": "code",
   "execution_count": 33,
   "id": "8fb2a41f",
   "metadata": {},
   "outputs": [
    {
     "name": "stdout",
     "output_type": "stream",
     "text": [
      "prachiiii sharmaaaa 4510278960\n"
     ]
    }
   ],
   "source": [
    "s='prachiiii sharmaaaa'\n",
    "print(s,id(s))"
   ]
  },
  {
   "cell_type": "code",
   "execution_count": 34,
   "id": "f85e0a78",
   "metadata": {},
   "outputs": [
    {
     "ename": "TypeError",
     "evalue": "'str' object does not support item assignment",
     "output_type": "error",
     "traceback": [
      "\u001b[0;31m---------------------------------------------------------------------------\u001b[0m",
      "\u001b[0;31mTypeError\u001b[0m                                 Traceback (most recent call last)",
      "Input \u001b[0;32mIn [34]\u001b[0m, in \u001b[0;36m<module>\u001b[0;34m\u001b[0m\n\u001b[0;32m----> 1\u001b[0m s[\u001b[38;5;241m1\u001b[39m]\u001b[38;5;241m=\u001b[39m\u001b[38;5;124m'\u001b[39m\u001b[38;5;124mt\u001b[39m\u001b[38;5;124m'\u001b[39m\n",
      "\u001b[0;31mTypeError\u001b[0m: 'str' object does not support item assignment"
     ]
    }
   ],
   "source": [
    "s[1]='t'"
   ]
  },
  {
   "cell_type": "code",
   "execution_count": null,
   "id": "bb0ab079",
   "metadata": {},
   "outputs": [],
   "source": []
  }
 ],
 "metadata": {
  "kernelspec": {
   "display_name": "Python 3 (ipykernel)",
   "language": "python",
   "name": "python3"
  },
  "language_info": {
   "codemirror_mode": {
    "name": "ipython",
    "version": 3
   },
   "file_extension": ".py",
   "mimetype": "text/x-python",
   "name": "python",
   "nbconvert_exporter": "python",
   "pygments_lexer": "ipython3",
   "version": "3.9.12"
  }
 },
 "nbformat": 4,
 "nbformat_minor": 5
}
